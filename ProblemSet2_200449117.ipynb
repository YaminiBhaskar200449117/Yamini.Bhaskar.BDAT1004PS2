{
 "cells": [
  {
   "cell_type": "markdown",
   "metadata": {},
   "source": [
    "### Question 1\n",
    "#### Consider the following Python module:\n",
    "    a = 0\n",
    "      def b():\n",
    "        global a\n",
    "        a = c(a)\n",
    "      def c(a):\n",
    "        return a + 2\n",
    "After importing the module into the interpreter, you execute:\n",
    "\n",
    "    b()\n",
    "    b()\n",
    "    b()\n",
    "    a\n",
    "\n",
    "What value is displayed when the last expression (a) is evaluated? Explain your answer by indicating what happens in every executed statement."
   ]
  },
  {
   "cell_type": "code",
   "execution_count": 3,
   "metadata": {},
   "outputs": [
    {
     "data": {
      "text/plain": [
       "6"
      ]
     },
     "execution_count": 3,
     "metadata": {},
     "output_type": "execute_result"
    }
   ],
   "source": [
    "a=0\n",
    "def b():\n",
    "    global a\n",
    "    a = c(a)\n",
    "def c(a):\n",
    "    return a + 2\n",
    "\n",
    "b()\n",
    "b()\n",
    "b()\n",
    "a"
   ]
  },
  {
   "cell_type": "markdown",
   "metadata": {},
   "source": [
    "In the last expression, value of **a** was displayed as 6. The reason behind this is explained below.\n",
    "\n",
    "Let's first begin by explaining the two functions:\n",
    "1. The function b() takes variable a and then refers to execute function c(), taking a as the input. The result of running c(a) would become the new value assigned to a.\n",
    "2. Function c(a) adds 2 in the value of a.\n",
    "\n",
    "Now, let's explain what happened when we executed the statements:\n",
    "\n",
    "1. When we run b() each time, it basically adds 2 in the current value of a and assigns it as the new value of a.\n",
    "2. Running b(), for the first time, took a as 0 and thus, added 0 and 2 together, resulting in 2 as the new value of a.\n",
    "3. Running b(), for the second time, added 2 and 2 together, resulting in 4 as the new value of a.\n",
    "4. Running b(), for the third time, added 4 and 2 together, resulting in 6 as the new value of a.\n",
    "\n",
    "Thus, this resulted in a = 6."
   ]
  },
  {
   "cell_type": "markdown",
   "metadata": {},
   "source": [
    "### Question 2\n",
    "#### Function fileLength(), given to you, takes the name of a file as input and returns the length of the file. If the file cannot be found by the interpreter or if it cannot be read as a text file, an exception will be raised. Modify function fileLength() so that a friendly message is printed instead."
   ]
  },
  {
   "cell_type": "code",
   "execution_count": 4,
   "metadata": {},
   "outputs": [],
   "source": [
    "def fileLength(file):\n",
    "      try:\n",
    "        infile = open(file)\n",
    "        print (len(infile.read()))\n",
    "      except FileNotFoundError:\n",
    "          print('File {} not found.'.format(file))"
   ]
  },
  {
   "cell_type": "code",
   "execution_count": 5,
   "metadata": {},
   "outputs": [
    {
     "name": "stdout",
     "output_type": "stream",
     "text": [
      "File idterm.py not found.\n"
     ]
    }
   ],
   "source": [
    "fileLength('idterm.py')"
   ]
  },
  {
   "cell_type": "markdown",
   "metadata": {},
   "source": [
    "### Question 3\n",
    "#### Write a class named Marsupial. Now write a class named Kangaroo as a subclass of Marsupial that inherits all the attributes of Marsupial and also:\n",
    "    a. extends the Marsupial __init__ constructor to take, as input, the coordinates x and y of the Kangaroo object,\n",
    "    b. supports method jump that takes number values dx and dy as input and moves the kangaroo by dx units along the x-axis and by dy units along the y-axis, and\n",
    "    c. overloads the __str__ operator"
   ]
  },
  {
   "cell_type": "code",
   "execution_count": 6,
   "metadata": {},
   "outputs": [],
   "source": [
    "class Marsupial:\n",
    "    \n",
    "    def __init__(self):  \n",
    "        self.ques3 = []\n",
    "        \n",
    "    def put_in_pouch(self,word):\n",
    "        'Adds the word into the list'\n",
    "        self.word = word\n",
    "        self.ques3.append(word)\n",
    "        \n",
    "    def pouch_contents(self):\n",
    "        'Returns the list'\n",
    "        return self.ques3"
   ]
  },
  {
   "cell_type": "code",
   "execution_count": 7,
   "metadata": {},
   "outputs": [
    {
     "data": {
      "text/plain": [
       "['doll', 'firetruck', 'kitten']"
      ]
     },
     "execution_count": 7,
     "metadata": {},
     "output_type": "execute_result"
    }
   ],
   "source": [
    "m = Marsupial()\n",
    "m.put_in_pouch('doll')\n",
    "m.put_in_pouch('firetruck')\n",
    "m.put_in_pouch('kitten')\n",
    "m.pouch_contents()"
   ]
  },
  {
   "cell_type": "code",
   "execution_count": 8,
   "metadata": {},
   "outputs": [],
   "source": [
    "class Kangaroo(Marsupial):\n",
    "    \n",
    "    def __init__(self,xcord,ycord):\n",
    "        'takes, as input, the coordinates x and y of the Kangaroo'\n",
    "        Marsupial.__init__(self)\n",
    "        self.x = xcord\n",
    "        self.y = ycord\n",
    "    \n",
    "    def jump(self,dxcord,dycord):\n",
    "        'takes number values dx and dy as input and moves the kangaroo by dx units along the x-axis and by dy units along the y-axis'\n",
    "        self.x += dxcord\n",
    "        self.y += dycord\n",
    "    \n",
    "    def __str__(self):\n",
    "        return 'I am a Kangaroo located at coordinates ({}, {}).'.format(self.x,self.y)"
   ]
  },
  {
   "cell_type": "code",
   "execution_count": 9,
   "metadata": {},
   "outputs": [
    {
     "name": "stdout",
     "output_type": "stream",
     "text": [
      "I am a Kangaroo located at coordinates (0, 0).\n"
     ]
    }
   ],
   "source": [
    "k = Kangaroo(0,0)\n",
    "print(k)"
   ]
  },
  {
   "cell_type": "code",
   "execution_count": 10,
   "metadata": {},
   "outputs": [
    {
     "data": {
      "text/plain": [
       "['doll', 'firetruck', 'kitten']"
      ]
     },
     "execution_count": 10,
     "metadata": {},
     "output_type": "execute_result"
    }
   ],
   "source": [
    "k.put_in_pouch('doll')\n",
    "k.put_in_pouch('firetruck')\n",
    "k.put_in_pouch('kitten')\n",
    "k.pouch_contents()"
   ]
  },
  {
   "cell_type": "code",
   "execution_count": 11,
   "metadata": {},
   "outputs": [
    {
     "name": "stdout",
     "output_type": "stream",
     "text": [
      "I am a Kangaroo located at coordinates (3, 0).\n"
     ]
    }
   ],
   "source": [
    "k.jump(1,0)\n",
    "k.jump(1,0)\n",
    "k.jump(1,0)\n",
    "print(k)"
   ]
  },
  {
   "cell_type": "markdown",
   "metadata": {},
   "source": [
    "### Question 4\n",
    "#### Implement a new GUI class App that combines user-defined tkinter widget classes Calculator and Mortgage.\n",
    "**NOTE: Screenshots of GUI class App attached as a PDF file in GitHub Repository.**"
   ]
  },
  {
   "cell_type": "code",
   "execution_count": 4,
   "metadata": {},
   "outputs": [],
   "source": [
    "from tkinter import *\n",
    "\n",
    "class Calculator(Frame):\n",
    "    'Calculator GUI'\n",
    "    \n",
    "    def __init__(self, master):\n",
    "        \n",
    "        canvas = Canvas(master, height=20, width=250,relief=SUNKEN, borderwidth=3, bg='grey')\n",
    "        canvas.pack()\n",
    "        \n",
    "        Frame.__init__(self,master)\n",
    "        \n",
    "        box = Frame(master) \n",
    "        box.pack(side = LEFT)\n",
    "\n",
    "        self.labels = [['MC', 'M+', 'M-','MR'],     \n",
    "                  ['C', chr(8730), 'x²','+'],     \n",
    "                  ['7', '8', '9','-'],\n",
    "                  ['4', '5', '6','*'],\n",
    "                  ['1','2','3','/'],\n",
    "                  ['0','.','+-','=']]\n",
    "\n",
    "        for r in range(6):\n",
    "            for c in range(4):\n",
    "                label = Button(box,relief=RAISED,padx=10,text=self.labels[r][c],height=1,width=5)\n",
    "                label.grid(row=r, column=c,pady=4,padx=4)"
   ]
  },
  {
   "cell_type": "code",
   "execution_count": 1,
   "metadata": {},
   "outputs": [],
   "source": [
    "from tkinter import *\n",
    "\n",
    "class Mortgage(Frame):\n",
    "    'Mortgage Class'\n",
    "    \n",
    "    def __init__(self, master):\n",
    "        Frame.__init__(self,master)\n",
    "        \n",
    "        box2 = Frame(master) \n",
    "        box2.pack(side = LEFT)\n",
    "        \n",
    "        Loan_Amount = Label(box2, text = 'Loan Amount:')\n",
    "        Loan_Amount.grid(row=0,column=0,padx=5,pady=5)\n",
    "        Int_Rate = Label(box2,text = 'Interest Rate:')\n",
    "        Int_Rate.grid(row=1,column=0,padx=5,pady=5)\n",
    "        Loan_Terms = Label(box2,text = 'Loan Terms:')\n",
    "        Loan_Terms.grid(row=2,column=0,padx=5,pady=5)\n",
    "        self.Comp_Mort = Button(box2,text = 'Compute Mortgage')\n",
    "        self.Comp_Mort.grid(row=3,column=0,padx=5,pady=5)\n",
    "        \n",
    "        self.LA_Ent = Entry(box2,width=30)\n",
    "        self.LA_Ent.grid(row=0,column=1)\n",
    "        self.IR_Ent = Entry(box2,width=30)\n",
    "        self.IR_Ent.grid(row=1,column=1)\n",
    "        self.LT_Ent = Entry(box2,width=30)\n",
    "        self.LT_Ent.grid(row=2,column=1)\n",
    "        self.CM_Ent = Entry(box2,width=30)\n",
    "        self.CM_Ent.grid(row=3,column=1)\n",
    "\n",
    "from tkinter import Tk\n",
    "root=Tk()\n",
    "mort = Mortgage(root)\n",
    "mort.pack()\n",
    "root.mainloop()"
   ]
  },
  {
   "cell_type": "code",
   "execution_count": 2,
   "metadata": {},
   "outputs": [],
   "source": [
    "from tkinter import *\n",
    "\n",
    "class App(Frame):\n",
    "    'Combines Calculator and Mortgage GUIs'\n",
    "\n",
    "    def __init__(self,master):\n",
    "        Frame.__init__(self,master)\n",
    "        \n",
    "        mort = Mortgage(self)\n",
    "        mort.pack(side=LEFT)\n",
    "        \n",
    "        calc = Calculator(self)\n",
    "        calc.pack(side=RIGHT)"
   ]
  },
  {
   "cell_type": "code",
   "execution_count": 5,
   "metadata": {},
   "outputs": [],
   "source": [
    "from tkinter import Tk\n",
    "root = Tk()\n",
    "app = App(root)\n",
    "app.pack()\n",
    "root.mainloop()"
   ]
  },
  {
   "cell_type": "markdown",
   "metadata": {},
   "source": [
    "### Question 5\n",
    "#### Write function collatz() that takes a positive integer x as input and prints the Collatz sequence starting at x. Your function should stop when the sequence gets to number 1. Your implementation must be recursive, without any loops."
   ]
  },
  {
   "cell_type": "code",
   "execution_count": 19,
   "metadata": {},
   "outputs": [],
   "source": [
    "def collatz(x):\n",
    "    \n",
    "    #Checks whether the input is a non-negative integer\n",
    "    if x>0 and type(x)==int:\n",
    "        \n",
    "        if x>1:\n",
    "            if x%2 == 0:\n",
    "                print (int(x))\n",
    "                x = x/2\n",
    "            else:\n",
    "                print (int(x))\n",
    "                x = 3*x + 1\n",
    "            collatz(int(x))\n",
    "        \n",
    "        else:\n",
    "            print ('1')\n",
    "    else:\n",
    "        print (\"Error: Enter a positive integer\")"
   ]
  },
  {
   "cell_type": "code",
   "execution_count": 21,
   "metadata": {},
   "outputs": [
    {
     "name": "stdout",
     "output_type": "stream",
     "text": [
      "1\n"
     ]
    }
   ],
   "source": [
    "collatz(1)"
   ]
  },
  {
   "cell_type": "code",
   "execution_count": 22,
   "metadata": {},
   "outputs": [
    {
     "name": "stdout",
     "output_type": "stream",
     "text": [
      "10\n",
      "5\n",
      "16\n",
      "8\n",
      "4\n",
      "2\n",
      "1\n"
     ]
    }
   ],
   "source": [
    "collatz(10)"
   ]
  },
  {
   "cell_type": "markdown",
   "metadata": {},
   "source": [
    "### Question 6 \n",
    "#### Write a recursive method binary() that takes a non-negative integer n and prints the binary representation of integer n."
   ]
  },
  {
   "cell_type": "code",
   "execution_count": 10,
   "metadata": {},
   "outputs": [],
   "source": [
    "def binary(n):\n",
    "    \n",
    "    #Checks whether the input is a non-negative integer\n",
    "    if n>=0:\n",
    "        \n",
    "        #Base Case\n",
    "        if n==0 or n==1:\n",
    "            print (n)\n",
    "   \n",
    "        #Recursive step\n",
    "        else:\n",
    "            mod = n%2\n",
    "            print (mod, end=\"\")\n",
    "            n = n//2\n",
    "            binary(n)\n",
    "    else:\n",
    "        print (\"Only non-negative integers accepted\")"
   ]
  },
  {
   "cell_type": "code",
   "execution_count": 11,
   "metadata": {},
   "outputs": [
    {
     "name": "stdout",
     "output_type": "stream",
     "text": [
      "0\n"
     ]
    }
   ],
   "source": [
    "binary(0)"
   ]
  },
  {
   "cell_type": "code",
   "execution_count": 12,
   "metadata": {},
   "outputs": [
    {
     "name": "stdout",
     "output_type": "stream",
     "text": [
      "1\n"
     ]
    }
   ],
   "source": [
    "binary(1)"
   ]
  },
  {
   "cell_type": "code",
   "execution_count": 13,
   "metadata": {},
   "outputs": [
    {
     "name": "stdout",
     "output_type": "stream",
     "text": [
      "11\n"
     ]
    }
   ],
   "source": [
    "binary(3)"
   ]
  },
  {
   "cell_type": "code",
   "execution_count": 14,
   "metadata": {},
   "outputs": [
    {
     "name": "stdout",
     "output_type": "stream",
     "text": [
      "1001\n"
     ]
    }
   ],
   "source": [
    "binary(9)"
   ]
  },
  {
   "cell_type": "markdown",
   "metadata": {},
   "source": [
    "### Question 7\n",
    "#### Implement a class named HeadingParser that can be used to parse an HTML document, and retrieve and print all the headings in the document. You should implement your class as a subclass of HTMLParser, defined in Standard Library module html.parser. When fed a string containing HTML code, your class should print the headings, one per line and in the order in which they appear in the document. Each heading should be indented as follows: an h1 heading should have indentation 0, and h2 heading should have indentation 1, etc. Test your implementation using w3c.html."
   ]
  },
  {
   "cell_type": "code",
   "execution_count": 6,
   "metadata": {},
   "outputs": [],
   "source": [
    "from html.parser import HTMLParser\n",
    "\n",
    "class HeadingParser(HTMLParser):\n",
    "    'Prints all headings within a html file.'\n",
    "    \n",
    "    def _init_(self):\n",
    "        HTMLParser.__init__(self)\n",
    "        self.heading = False\n",
    "        \n",
    "    def handle_starttag(self, tag, attrs):\n",
    "        \n",
    "        if tag in ['h1','h2','h3','h4','h5','h6']:\n",
    "            self.heading = True\n",
    "            #Setting the indentation size as the number in the tag \n",
    "            self.indsize = int(tag[1])-1\n",
    "            self.indent = ' '*self.indsize\n",
    "        else:\n",
    "            self.heading = False\n",
    "\n",
    "    def handle_data(self, data):\n",
    "        if self.heading == True:\n",
    "            print (\"{}{}\".format(self.indent, data))\n",
    "            self.heading = False"
   ]
  },
  {
   "cell_type": "code",
   "execution_count": 7,
   "metadata": {},
   "outputs": [
    {
     "name": "stdout",
     "output_type": "stream",
     "text": [
      "W3C Mission\n",
      " Principles\n"
     ]
    }
   ],
   "source": [
    "infile = open('w3c.html')\n",
    "content = infile.read()\n",
    "infile.close()\n",
    "headingparser = HeadingParser()\n",
    "headingparser.feed(content)"
   ]
  },
  {
   "cell_type": "markdown",
   "metadata": {},
   "source": [
    "### Question 8\n",
    "#### Implement recursive function webdir() that takes as input: a URL (as a string) and non-negative integers depth and indent. Your function should visit every web page reachable from the starting URL web page in depth clicks or less, and print each web page's URL."
   ]
  },
  {
   "cell_type": "code",
   "execution_count": 2,
   "metadata": {},
   "outputs": [],
   "source": [
    "from urllib.request import urlopen\n",
    "from urllib.parse import urljoin\n",
    "from html.parser import HTMLParser\n",
    "\n",
    "class Collector(HTMLParser):\n",
    "    'collects hyperlink URLs into a list'\n",
    "\n",
    "    def __init__(self, url):\n",
    "        'initializes parser, the url, and a list'\n",
    "        HTMLParser.__init__(self)\n",
    "        self.url = url\n",
    "        self.links = []\n",
    "\n",
    "    def handle_starttag(self, tag, attrs):\n",
    "        'collects hyperlink URLs in their absolute format'\n",
    "        if tag == 'a':\n",
    "            for attr in attrs:\n",
    "                if attr[0] == 'href':\n",
    "                    # construct absolute URL\n",
    "                    absolute = urljoin(self.url, attr[1])\n",
    "                    if absolute[:4] == 'http': # collect HTTP URLs\n",
    "                        self.links.append(absolute)\n",
    "                        \n",
    "    def getLinks(self):\n",
    "        'returns hyperlinks URLs in their absolute format'\n",
    "        return self.links\n",
    "\n",
    "def webdir(url, depth, indent):\n",
    "    'Visits every web page reachable from the url'\n",
    "    \n",
    "    openurl = urlopen(url)\n",
    "    content = openurl.read().decode()\n",
    "    collector = Collector(url)\n",
    "    collector.feed(content)\n",
    "    urls = collector.getLinks()\n",
    "    \n",
    "    print(\"{}{}\".format(indent*' ', url))\n",
    "    \n",
    "    for each in urls:\n",
    "        if depth>0:\n",
    "            webdir(each, depth-1, indent++2)"
   ]
  },
  {
   "cell_type": "code",
   "execution_count": 3,
   "metadata": {},
   "outputs": [
    {
     "name": "stdout",
     "output_type": "stream",
     "text": [
      "https://www.hellotalk.com/about\n",
      "  https://www.hellotalk.com\n",
      "    https://www.hellotalk.com\n",
      "    https://www.hellotalk.com/about/\n",
      "    https://blog.hellotalk.com\n",
      "    https://web.hellotalk.com/?from=1home\n",
      "    https://www.hellotalk.com?lang=en\n",
      "    https://www.hellotalk.com/?lang=zh-hans\n",
      "    https://www.hellotalk.com/?lang=zh-hant\n",
      "    https://www.hellotalk.com/?lang=es\n",
      "    https://www.hellotalk.com/?lang=ar\n",
      "    https://www.hellotalk.com/?lang=fr\n",
      "    https://www.hellotalk.com/?lang=de\n",
      "    https://www.hellotalk.com/?lang=ja\n",
      "    https://www.hellotalk.com/?lang=ko\n",
      "    https://www.hellotalk.com/?lang=ru\n",
      "    https://www.hellotalk.com/?lang=th\n",
      "    https://www.hellotalk.com/?lang=nl\n",
      "    https://www.hellotalk.com/?lang=id\n",
      "    https://www.hellotalk.com/?lang=it\n",
      "    https://www.hellotalk.com/?lang=tr\n",
      "    https://www.hellotalk.com/?lang=vi\n",
      "    https://www.hellotalk.com/?lang=pt-br\n",
      "    https://www.hellotalk.com/?lang=sv\n",
      "    https://itunes.apple.com/us/app/hellotalk-language-exchange/id557130558?mt=8&at=1001lobZ&ct=homepage_badge&pt=496452\n",
      "    https://play.google.com/store/apps/details?id=com.hellotalk\n",
      "    https://itunes.apple.com/us/app/hellotalk-language-exchange/id557130558?mt=8&at=1001lobZ&ct=homepage_badge&pt=496452\n",
      "    https://play.google.com/store/apps/details?id=com.hellotalk\n",
      "    http://youtube.com/user/hellotalk8\n",
      "    http://twitter.com/hellotalkapp\n",
      "    http://facebook.com/Hellotalk\n",
      "    http://instagram.com/hellotalk_official\n",
      "    https://www.hellotalk.com/about?lang=en#presskit\n",
      "    https://web.hellotalk.com?from=home\n",
      "    https://www.hellotalk.com/jobs/\n",
      "    https://blog.hellotalk.com\n",
      "    https://www.hellotalk.com/about/\n",
      "  https://www.hellotalk.com/about/\n",
      "    https://www.hellotalk.com\n",
      "    https://www.hellotalk.com/about/\n",
      "    https://blog.hellotalk.com\n",
      "    https://web.hellotalk.com/?from=1home\n",
      "    https://www.hellotalk.com/about/?lang=en\n",
      "    https://www.hellotalk.com/about/?lang=zh-hans\n",
      "    https://www.hellotalk.com/about/?lang=zh-hant\n",
      "    https://www.hellotalk.com/about/?lang=es\n",
      "    https://www.hellotalk.com/about/?lang=ar\n",
      "    https://www.hellotalk.com/about/?lang=fr\n",
      "    https://www.hellotalk.com/about/?lang=de\n",
      "    https://www.hellotalk.com/about/?lang=ja\n",
      "    https://www.hellotalk.com/about/?lang=ko\n",
      "    https://www.hellotalk.com/about/?lang=ru\n",
      "    https://www.hellotalk.com/about/?lang=th\n",
      "    https://www.hellotalk.com/about/?lang=nl\n",
      "    https://www.hellotalk.com/about/?lang=id\n",
      "    https://www.hellotalk.com/about/?lang=it\n",
      "    https://www.hellotalk.com/about/?lang=tr\n",
      "    https://www.hellotalk.com/about/?lang=vi\n",
      "    https://www.hellotalk.com/about/?lang=pt-br\n",
      "    https://www.hellotalk.com/about/?lang=sv\n",
      "    https://www.hellotalk.com/jobs\n",
      "    https://www.dropbox.com/sh/b40mzr7w3lehcye/AAA0gZcIVuSskPMQUzoBgkTta?dl=0\n",
      "    https://www.dropbox.com/sh/kdkooz5dgdm3ccf/AAC6iITIKp3S2ob3HZmXwgbGa?dl=0\n",
      "    https://www.dropbox.com/sh/ert45gp43at9rcy/AAC-9Bogf2xrEg5rlIw1P1qRa?dl=0\n",
      "    https://www.dropbox.com/s/xl5deejs9vw6ykq/News_Articles_and_Reviews.docx?dl=0\n",
      "    https://www.youtube.com/watch?v=IKWw14kDNIo\n",
      "    https://www.youtube.com/watch?v=fTevZ2DpsRQ\n",
      "    https://www.youtube.com/watch?v=9wM8oq3ooZw\n",
      "    https://www.youtube.com/watch?v=vaOWkQsjiZ0\n",
      "    https://www.youtube.com/watch?v=J7Uv9Oqkc3c&t=4s\n",
      "    https://www.youtube.com/watch?v=bixMSfNIgtw\n",
      "    https://youtu.be/uqRp7y969CA?t=3m33s\n",
      "    https://www.youtube.com/watch?v=WiuJfOK3y_s\n",
      "    https://www.youtube.com/watch?v=KIL6a5AGy8M\n",
      "    http://youtube.com/user/hellotalk8\n",
      "    http://twitter.com/hellotalkapp\n",
      "    http://facebook.com/Hellotalk\n",
      "    http://instagram.com/hellotalk_official\n",
      "    https://www.hellotalk.com/about?lang=en#presskit\n",
      "    https://web.hellotalk.com?from=home\n",
      "    https://www.hellotalk.com/jobs/\n",
      "    https://blog.hellotalk.com\n",
      "    https://www.hellotalk.com/about/\n",
      "  https://blog.hellotalk.com\n",
      "    https://blog.hellotalk.com#main\n",
      "    https://www.instagram.com/hellotalk_official/\n",
      "    https://www.facebook.com/Hellotalk/\n",
      "    https://twitter.com/HelloTalkApp\n",
      "    https://www.youtube.com/user/hellotalk8/featured\n",
      "    https://www.hellotalk.com/\n",
      "    https://blog.hellotalk.com/en/\n",
      "    https://brc.hellotalk.com/hellotalk-blog-banner\n",
      "    https://blog.hellotalk.com#trendingCollapse\n",
      "    https://blog.hellotalk.com/language/\n",
      "    https://blog.hellotalk.com/language/resources/\n",
      "    https://blog.hellotalk.com/learning/\n",
      "    https://blog.hellotalk.com/community/\n",
      "    https://blog.hellotalk.com/community/meetups/\n",
      "    https://blog.hellotalk.com/community/stories/\n",
      "    https://blog.hellotalk.com/category/community/users/\n",
      "    https://blog.hellotalk.com/language-exchange/\n",
      "    https://blog.hellotalk.com/tips/\n",
      "    https://blog.hellotalk.com/category/language-exchange/updates/\n",
      "    https://blog.hellotalk.com#sidr-nav\n",
      "    https://blog.hellotalk.com/chinese-french-romantic-connection-with-china/\n",
      "    https://blog.hellotalk.com/american-joins-chinese-mens-choir/\n",
      "    https://blog.hellotalk.com/hellotalk-user-report/\n",
      "    https://blog.hellotalk.com/find-your-hellotalk-tribe/\n",
      "    https://blog.hellotalk.com/how-to-use-triggers-to-create-great-study-habits-and-learn-a-new-language/\n",
      "    https://blog.hellotalk.com/tag/hellotalk/\n",
      "    https://blog.hellotalk.com/tag/hellotalk-app/\n",
      "    https://blog.hellotalk.com/tag/hellotalk-language-exchange/\n",
      "    https://blog.hellotalk.com/tag/language/\n",
      "    https://blog.hellotalk.com/tag/language-exchange/\n",
      "    https://blog.hellotalk.com/tag/language-exchange-app/\n",
      "    https://blog.hellotalk.com/tag/language-exchange-mobile/\n",
      "    https://blog.hellotalk.com/tag/language-learning/\n",
      "    https://blog.hellotalk.com/tag/language-partner/\n",
      "    https://blog.hellotalk.com/tag/language-resources/\n",
      "    https://blog.hellotalk.com/tag/learn-chinese/\n",
      "    https://blog.hellotalk.com/tag/learn-english/\n",
      "    https://blog.hellotalk.com/tag/learn-japanese/\n",
      "    https://blog.hellotalk.com/tag/learn-korean/\n",
      "    https://blog.hellotalk.com/tag/learn-spanish/\n",
      "    https://blog.hellotalk.com/tag/learning/\n",
      "    https://blog.hellotalk.com/tag/study-habits/\n",
      "    https://blog.hellotalk.com/category/language/\n",
      "    https://blog.hellotalk.com/category/language-exchange/\n",
      "    https://blog.hellotalk.com/category/language/learning/\n",
      "    https://blog.hellotalk.com/category/uncategorized/\n",
      "    https://blog.hellotalk.com/category/language-exchange/tips/\n",
      "    https://blog.hellotalk.com/how-to-start-a-successful-language-exchange/\n",
      "    https://blog.hellotalk.com/tag/language/\n",
      "    https://blog.hellotalk.com/tag/language-exchange/\n",
      "    https://blog.hellotalk.com/tag/language-exchange-app/\n",
      "    https://blog.hellotalk.com/tag/language-exchange-mobile/\n",
      "    https://blog.hellotalk.com/tag/language-learning/\n",
      "    https://blog.hellotalk.com/tag/language-resources/\n",
      "    https://blog.hellotalk.com/tag/learn-chinese/\n",
      "    https://blog.hellotalk.com/tag/learn-english/\n",
      "    https://blog.hellotalk.com/tag/learn-japanese/\n",
      "    https://blog.hellotalk.com/tag/learn-korean/\n",
      "    https://blog.hellotalk.com/tag/learn-spanish/\n",
      "    https://blog.hellotalk.com/tag/learning/\n",
      "    https://blog.hellotalk.com/category/language-exchange/\n",
      "    https://blog.hellotalk.com/category/uncategorized/\n",
      "    https://blog.hellotalk.com/category/language-exchange/tips/\n",
      "    https://blog.hellotalk.com/become-fluent-in-daily-language-fast-without-spending-money/\n",
      "    https://blog.hellotalk.com/category/language/\n",
      "    https://blog.hellotalk.com/category/language/learning/\n",
      "    https://blog.hellotalk.com/chinese-french-romantic-connection-with-china/\n",
      "    https://blog.hellotalk.com/category/community/stories/\n",
      "    https://blog.hellotalk.com/american-joins-chinese-mens-choir/\n",
      "    https://blog.hellotalk.com/category/community/stories/\n",
      "    https://blog.hellotalk.com/hellotalk-user-report/\n",
      "    https://blog.hellotalk.com/category/community/\n",
      "    https://blog.hellotalk.com/find-your-hellotalk-tribe/\n",
      "    https://blog.hellotalk.com/category/community/\n",
      "    https://blog.hellotalk.com/category/community/users/\n",
      "    https://blog.hellotalk.com/chinese-walking-stereotype/\n",
      "    https://blog.hellotalk.com/category/community/stories/\n",
      "    https://blog.hellotalk.com/scotsman-in-japan/\n",
      "    https://blog.hellotalk.com/category/community/\n",
      "    https://blog.hellotalk.com/category/community/stories/\n",
      "    https://blog.hellotalk.com/japanese-teacher-thai-grammar/\n",
      "    https://blog.hellotalk.com/category/community/\n"
     ]
    },
    {
     "name": "stdout",
     "output_type": "stream",
     "text": [
      "    https://blog.hellotalk.com/category/community/stories/\n",
      "    https://blog.hellotalk.com/en/page/2/\n",
      "    https://blog.hellotalk.com/chinese-french-romantic-connection-with-china/\n",
      "    https://blog.hellotalk.com/category/community/stories/\n",
      "    https://blog.hellotalk.com/chinese-french-romantic-connection-with-china/\n",
      "    https://blog.hellotalk.com/en/author/hellotalk/\n",
      "    https://blog.hellotalk.com/american-joins-chinese-mens-choir/\n",
      "    https://blog.hellotalk.com/category/community/stories/\n",
      "    https://blog.hellotalk.com/american-joins-chinese-mens-choir/\n",
      "    https://blog.hellotalk.com/en/author/hellotalk/\n",
      "    https://blog.hellotalk.com/hellotalk-user-report/\n",
      "    https://blog.hellotalk.com/category/community/\n",
      "    https://blog.hellotalk.com/hellotalk-user-report/\n",
      "    https://blog.hellotalk.com/en/author/hellotalk/\n",
      "    https://www.instagram.com/hellotalk_official/\n",
      "    https://www.facebook.com/Hellotalk/\n",
      "    https://twitter.com/HelloTalkApp\n",
      "    https://www.youtube.com/user/hellotalk8/featured\n",
      "    https://www.hellotalk.com/\n",
      "    https://blog.hellotalk.com/en/\n"
     ]
    },
    {
     "ename": "HTTPError",
     "evalue": "HTTP Error 404: Not Found",
     "output_type": "error",
     "traceback": [
      "\u001b[1;31m---------------------------------------------------------------------------\u001b[0m",
      "\u001b[1;31mHTTPError\u001b[0m                                 Traceback (most recent call last)",
      "\u001b[1;32m<ipython-input-3-1ee4bee765b3>\u001b[0m in \u001b[0;36m<module>\u001b[1;34m\u001b[0m\n\u001b[1;32m----> 1\u001b[1;33m \u001b[0mwebdir\u001b[0m\u001b[1;33m(\u001b[0m\u001b[1;34m\"https://www.hellotalk.com/about\"\u001b[0m\u001b[1;33m,\u001b[0m\u001b[1;36m2\u001b[0m\u001b[1;33m,\u001b[0m\u001b[1;36m0\u001b[0m\u001b[1;33m)\u001b[0m\u001b[1;33m\u001b[0m\u001b[1;33m\u001b[0m\u001b[0m\n\u001b[0m",
      "\u001b[1;32m<ipython-input-2-eaf349d45ef1>\u001b[0m in \u001b[0;36mwebdir\u001b[1;34m(url, depth, indent)\u001b[0m\n\u001b[0;32m     39\u001b[0m     \u001b[1;32mfor\u001b[0m \u001b[0meach\u001b[0m \u001b[1;32min\u001b[0m \u001b[0murls\u001b[0m\u001b[1;33m:\u001b[0m\u001b[1;33m\u001b[0m\u001b[1;33m\u001b[0m\u001b[0m\n\u001b[0;32m     40\u001b[0m         \u001b[1;32mif\u001b[0m \u001b[0mdepth\u001b[0m\u001b[1;33m>\u001b[0m\u001b[1;36m0\u001b[0m\u001b[1;33m:\u001b[0m\u001b[1;33m\u001b[0m\u001b[1;33m\u001b[0m\u001b[0m\n\u001b[1;32m---> 41\u001b[1;33m             \u001b[0mwebdir\u001b[0m\u001b[1;33m(\u001b[0m\u001b[0meach\u001b[0m\u001b[1;33m,\u001b[0m \u001b[0mdepth\u001b[0m\u001b[1;33m-\u001b[0m\u001b[1;36m1\u001b[0m\u001b[1;33m,\u001b[0m \u001b[0mindent\u001b[0m\u001b[1;33m+\u001b[0m\u001b[1;33m+\u001b[0m\u001b[1;36m2\u001b[0m\u001b[1;33m)\u001b[0m\u001b[1;33m\u001b[0m\u001b[1;33m\u001b[0m\u001b[0m\n\u001b[0m",
      "\u001b[1;32m<ipython-input-2-eaf349d45ef1>\u001b[0m in \u001b[0;36mwebdir\u001b[1;34m(url, depth, indent)\u001b[0m\n\u001b[0;32m     39\u001b[0m     \u001b[1;32mfor\u001b[0m \u001b[0meach\u001b[0m \u001b[1;32min\u001b[0m \u001b[0murls\u001b[0m\u001b[1;33m:\u001b[0m\u001b[1;33m\u001b[0m\u001b[1;33m\u001b[0m\u001b[0m\n\u001b[0;32m     40\u001b[0m         \u001b[1;32mif\u001b[0m \u001b[0mdepth\u001b[0m\u001b[1;33m>\u001b[0m\u001b[1;36m0\u001b[0m\u001b[1;33m:\u001b[0m\u001b[1;33m\u001b[0m\u001b[1;33m\u001b[0m\u001b[0m\n\u001b[1;32m---> 41\u001b[1;33m             \u001b[0mwebdir\u001b[0m\u001b[1;33m(\u001b[0m\u001b[0meach\u001b[0m\u001b[1;33m,\u001b[0m \u001b[0mdepth\u001b[0m\u001b[1;33m-\u001b[0m\u001b[1;36m1\u001b[0m\u001b[1;33m,\u001b[0m \u001b[0mindent\u001b[0m\u001b[1;33m+\u001b[0m\u001b[1;33m+\u001b[0m\u001b[1;36m2\u001b[0m\u001b[1;33m)\u001b[0m\u001b[1;33m\u001b[0m\u001b[1;33m\u001b[0m\u001b[0m\n\u001b[0m",
      "\u001b[1;32m<ipython-input-2-eaf349d45ef1>\u001b[0m in \u001b[0;36mwebdir\u001b[1;34m(url, depth, indent)\u001b[0m\n\u001b[0;32m     29\u001b[0m     \u001b[1;34m'Visits every web page reachable from the url'\u001b[0m\u001b[1;33m\u001b[0m\u001b[1;33m\u001b[0m\u001b[0m\n\u001b[0;32m     30\u001b[0m \u001b[1;33m\u001b[0m\u001b[0m\n\u001b[1;32m---> 31\u001b[1;33m     \u001b[0mopenurl\u001b[0m \u001b[1;33m=\u001b[0m \u001b[0murlopen\u001b[0m\u001b[1;33m(\u001b[0m\u001b[0murl\u001b[0m\u001b[1;33m)\u001b[0m\u001b[1;33m\u001b[0m\u001b[1;33m\u001b[0m\u001b[0m\n\u001b[0m\u001b[0;32m     32\u001b[0m     \u001b[0mcontent\u001b[0m \u001b[1;33m=\u001b[0m \u001b[0mopenurl\u001b[0m\u001b[1;33m.\u001b[0m\u001b[0mread\u001b[0m\u001b[1;33m(\u001b[0m\u001b[1;33m)\u001b[0m\u001b[1;33m.\u001b[0m\u001b[0mdecode\u001b[0m\u001b[1;33m(\u001b[0m\u001b[1;33m)\u001b[0m\u001b[1;33m\u001b[0m\u001b[1;33m\u001b[0m\u001b[0m\n\u001b[0;32m     33\u001b[0m     \u001b[0mcollector\u001b[0m \u001b[1;33m=\u001b[0m \u001b[0mCollector\u001b[0m\u001b[1;33m(\u001b[0m\u001b[0murl\u001b[0m\u001b[1;33m)\u001b[0m\u001b[1;33m\u001b[0m\u001b[1;33m\u001b[0m\u001b[0m\n",
      "\u001b[1;32m~\\Anaconda3\\lib\\urllib\\request.py\u001b[0m in \u001b[0;36murlopen\u001b[1;34m(url, data, timeout, cafile, capath, cadefault, context)\u001b[0m\n\u001b[0;32m    220\u001b[0m     \u001b[1;32melse\u001b[0m\u001b[1;33m:\u001b[0m\u001b[1;33m\u001b[0m\u001b[1;33m\u001b[0m\u001b[0m\n\u001b[0;32m    221\u001b[0m         \u001b[0mopener\u001b[0m \u001b[1;33m=\u001b[0m \u001b[0m_opener\u001b[0m\u001b[1;33m\u001b[0m\u001b[1;33m\u001b[0m\u001b[0m\n\u001b[1;32m--> 222\u001b[1;33m     \u001b[1;32mreturn\u001b[0m \u001b[0mopener\u001b[0m\u001b[1;33m.\u001b[0m\u001b[0mopen\u001b[0m\u001b[1;33m(\u001b[0m\u001b[0murl\u001b[0m\u001b[1;33m,\u001b[0m \u001b[0mdata\u001b[0m\u001b[1;33m,\u001b[0m \u001b[0mtimeout\u001b[0m\u001b[1;33m)\u001b[0m\u001b[1;33m\u001b[0m\u001b[1;33m\u001b[0m\u001b[0m\n\u001b[0m\u001b[0;32m    223\u001b[0m \u001b[1;33m\u001b[0m\u001b[0m\n\u001b[0;32m    224\u001b[0m \u001b[1;32mdef\u001b[0m \u001b[0minstall_opener\u001b[0m\u001b[1;33m(\u001b[0m\u001b[0mopener\u001b[0m\u001b[1;33m)\u001b[0m\u001b[1;33m:\u001b[0m\u001b[1;33m\u001b[0m\u001b[1;33m\u001b[0m\u001b[0m\n",
      "\u001b[1;32m~\\Anaconda3\\lib\\urllib\\request.py\u001b[0m in \u001b[0;36mopen\u001b[1;34m(self, fullurl, data, timeout)\u001b[0m\n\u001b[0;32m    529\u001b[0m         \u001b[1;32mfor\u001b[0m \u001b[0mprocessor\u001b[0m \u001b[1;32min\u001b[0m \u001b[0mself\u001b[0m\u001b[1;33m.\u001b[0m\u001b[0mprocess_response\u001b[0m\u001b[1;33m.\u001b[0m\u001b[0mget\u001b[0m\u001b[1;33m(\u001b[0m\u001b[0mprotocol\u001b[0m\u001b[1;33m,\u001b[0m \u001b[1;33m[\u001b[0m\u001b[1;33m]\u001b[0m\u001b[1;33m)\u001b[0m\u001b[1;33m:\u001b[0m\u001b[1;33m\u001b[0m\u001b[1;33m\u001b[0m\u001b[0m\n\u001b[0;32m    530\u001b[0m             \u001b[0mmeth\u001b[0m \u001b[1;33m=\u001b[0m \u001b[0mgetattr\u001b[0m\u001b[1;33m(\u001b[0m\u001b[0mprocessor\u001b[0m\u001b[1;33m,\u001b[0m \u001b[0mmeth_name\u001b[0m\u001b[1;33m)\u001b[0m\u001b[1;33m\u001b[0m\u001b[1;33m\u001b[0m\u001b[0m\n\u001b[1;32m--> 531\u001b[1;33m             \u001b[0mresponse\u001b[0m \u001b[1;33m=\u001b[0m \u001b[0mmeth\u001b[0m\u001b[1;33m(\u001b[0m\u001b[0mreq\u001b[0m\u001b[1;33m,\u001b[0m \u001b[0mresponse\u001b[0m\u001b[1;33m)\u001b[0m\u001b[1;33m\u001b[0m\u001b[1;33m\u001b[0m\u001b[0m\n\u001b[0m\u001b[0;32m    532\u001b[0m \u001b[1;33m\u001b[0m\u001b[0m\n\u001b[0;32m    533\u001b[0m         \u001b[1;32mreturn\u001b[0m \u001b[0mresponse\u001b[0m\u001b[1;33m\u001b[0m\u001b[1;33m\u001b[0m\u001b[0m\n",
      "\u001b[1;32m~\\Anaconda3\\lib\\urllib\\request.py\u001b[0m in \u001b[0;36mhttp_response\u001b[1;34m(self, request, response)\u001b[0m\n\u001b[0;32m    639\u001b[0m         \u001b[1;32mif\u001b[0m \u001b[1;32mnot\u001b[0m \u001b[1;33m(\u001b[0m\u001b[1;36m200\u001b[0m \u001b[1;33m<=\u001b[0m \u001b[0mcode\u001b[0m \u001b[1;33m<\u001b[0m \u001b[1;36m300\u001b[0m\u001b[1;33m)\u001b[0m\u001b[1;33m:\u001b[0m\u001b[1;33m\u001b[0m\u001b[1;33m\u001b[0m\u001b[0m\n\u001b[0;32m    640\u001b[0m             response = self.parent.error(\n\u001b[1;32m--> 641\u001b[1;33m                 'http', request, response, code, msg, hdrs)\n\u001b[0m\u001b[0;32m    642\u001b[0m \u001b[1;33m\u001b[0m\u001b[0m\n\u001b[0;32m    643\u001b[0m         \u001b[1;32mreturn\u001b[0m \u001b[0mresponse\u001b[0m\u001b[1;33m\u001b[0m\u001b[1;33m\u001b[0m\u001b[0m\n",
      "\u001b[1;32m~\\Anaconda3\\lib\\urllib\\request.py\u001b[0m in \u001b[0;36merror\u001b[1;34m(self, proto, *args)\u001b[0m\n\u001b[0;32m    567\u001b[0m         \u001b[1;32mif\u001b[0m \u001b[0mhttp_err\u001b[0m\u001b[1;33m:\u001b[0m\u001b[1;33m\u001b[0m\u001b[1;33m\u001b[0m\u001b[0m\n\u001b[0;32m    568\u001b[0m             \u001b[0margs\u001b[0m \u001b[1;33m=\u001b[0m \u001b[1;33m(\u001b[0m\u001b[0mdict\u001b[0m\u001b[1;33m,\u001b[0m \u001b[1;34m'default'\u001b[0m\u001b[1;33m,\u001b[0m \u001b[1;34m'http_error_default'\u001b[0m\u001b[1;33m)\u001b[0m \u001b[1;33m+\u001b[0m \u001b[0morig_args\u001b[0m\u001b[1;33m\u001b[0m\u001b[1;33m\u001b[0m\u001b[0m\n\u001b[1;32m--> 569\u001b[1;33m             \u001b[1;32mreturn\u001b[0m \u001b[0mself\u001b[0m\u001b[1;33m.\u001b[0m\u001b[0m_call_chain\u001b[0m\u001b[1;33m(\u001b[0m\u001b[1;33m*\u001b[0m\u001b[0margs\u001b[0m\u001b[1;33m)\u001b[0m\u001b[1;33m\u001b[0m\u001b[1;33m\u001b[0m\u001b[0m\n\u001b[0m\u001b[0;32m    570\u001b[0m \u001b[1;33m\u001b[0m\u001b[0m\n\u001b[0;32m    571\u001b[0m \u001b[1;31m# XXX probably also want an abstract factory that knows when it makes\u001b[0m\u001b[1;33m\u001b[0m\u001b[1;33m\u001b[0m\u001b[1;33m\u001b[0m\u001b[0m\n",
      "\u001b[1;32m~\\Anaconda3\\lib\\urllib\\request.py\u001b[0m in \u001b[0;36m_call_chain\u001b[1;34m(self, chain, kind, meth_name, *args)\u001b[0m\n\u001b[0;32m    501\u001b[0m         \u001b[1;32mfor\u001b[0m \u001b[0mhandler\u001b[0m \u001b[1;32min\u001b[0m \u001b[0mhandlers\u001b[0m\u001b[1;33m:\u001b[0m\u001b[1;33m\u001b[0m\u001b[1;33m\u001b[0m\u001b[0m\n\u001b[0;32m    502\u001b[0m             \u001b[0mfunc\u001b[0m \u001b[1;33m=\u001b[0m \u001b[0mgetattr\u001b[0m\u001b[1;33m(\u001b[0m\u001b[0mhandler\u001b[0m\u001b[1;33m,\u001b[0m \u001b[0mmeth_name\u001b[0m\u001b[1;33m)\u001b[0m\u001b[1;33m\u001b[0m\u001b[1;33m\u001b[0m\u001b[0m\n\u001b[1;32m--> 503\u001b[1;33m             \u001b[0mresult\u001b[0m \u001b[1;33m=\u001b[0m \u001b[0mfunc\u001b[0m\u001b[1;33m(\u001b[0m\u001b[1;33m*\u001b[0m\u001b[0margs\u001b[0m\u001b[1;33m)\u001b[0m\u001b[1;33m\u001b[0m\u001b[1;33m\u001b[0m\u001b[0m\n\u001b[0m\u001b[0;32m    504\u001b[0m             \u001b[1;32mif\u001b[0m \u001b[0mresult\u001b[0m \u001b[1;32mis\u001b[0m \u001b[1;32mnot\u001b[0m \u001b[1;32mNone\u001b[0m\u001b[1;33m:\u001b[0m\u001b[1;33m\u001b[0m\u001b[1;33m\u001b[0m\u001b[0m\n\u001b[0;32m    505\u001b[0m                 \u001b[1;32mreturn\u001b[0m \u001b[0mresult\u001b[0m\u001b[1;33m\u001b[0m\u001b[1;33m\u001b[0m\u001b[0m\n",
      "\u001b[1;32m~\\Anaconda3\\lib\\urllib\\request.py\u001b[0m in \u001b[0;36mhttp_error_default\u001b[1;34m(self, req, fp, code, msg, hdrs)\u001b[0m\n\u001b[0;32m    647\u001b[0m \u001b[1;32mclass\u001b[0m \u001b[0mHTTPDefaultErrorHandler\u001b[0m\u001b[1;33m(\u001b[0m\u001b[0mBaseHandler\u001b[0m\u001b[1;33m)\u001b[0m\u001b[1;33m:\u001b[0m\u001b[1;33m\u001b[0m\u001b[1;33m\u001b[0m\u001b[0m\n\u001b[0;32m    648\u001b[0m     \u001b[1;32mdef\u001b[0m \u001b[0mhttp_error_default\u001b[0m\u001b[1;33m(\u001b[0m\u001b[0mself\u001b[0m\u001b[1;33m,\u001b[0m \u001b[0mreq\u001b[0m\u001b[1;33m,\u001b[0m \u001b[0mfp\u001b[0m\u001b[1;33m,\u001b[0m \u001b[0mcode\u001b[0m\u001b[1;33m,\u001b[0m \u001b[0mmsg\u001b[0m\u001b[1;33m,\u001b[0m \u001b[0mhdrs\u001b[0m\u001b[1;33m)\u001b[0m\u001b[1;33m:\u001b[0m\u001b[1;33m\u001b[0m\u001b[1;33m\u001b[0m\u001b[0m\n\u001b[1;32m--> 649\u001b[1;33m         \u001b[1;32mraise\u001b[0m \u001b[0mHTTPError\u001b[0m\u001b[1;33m(\u001b[0m\u001b[0mreq\u001b[0m\u001b[1;33m.\u001b[0m\u001b[0mfull_url\u001b[0m\u001b[1;33m,\u001b[0m \u001b[0mcode\u001b[0m\u001b[1;33m,\u001b[0m \u001b[0mmsg\u001b[0m\u001b[1;33m,\u001b[0m \u001b[0mhdrs\u001b[0m\u001b[1;33m,\u001b[0m \u001b[0mfp\u001b[0m\u001b[1;33m)\u001b[0m\u001b[1;33m\u001b[0m\u001b[1;33m\u001b[0m\u001b[0m\n\u001b[0m\u001b[0;32m    650\u001b[0m \u001b[1;33m\u001b[0m\u001b[0m\n\u001b[0;32m    651\u001b[0m \u001b[1;32mclass\u001b[0m \u001b[0mHTTPRedirectHandler\u001b[0m\u001b[1;33m(\u001b[0m\u001b[0mBaseHandler\u001b[0m\u001b[1;33m)\u001b[0m\u001b[1;33m:\u001b[0m\u001b[1;33m\u001b[0m\u001b[1;33m\u001b[0m\u001b[0m\n",
      "\u001b[1;31mHTTPError\u001b[0m: HTTP Error 404: Not Found"
     ]
    }
   ],
   "source": [
    "webdir(\"https://www.hellotalk.com/about\",2,0)"
   ]
  },
  {
   "cell_type": "markdown",
   "metadata": {},
   "source": [
    "### Question 9\n",
    "#### Write SQL queries on the database table that return:"
   ]
  },
  {
   "cell_type": "markdown",
   "metadata": {},
   "source": [
    "a) All the temperature data:\n",
    "   \n",
    "    SELECT Temperature(C) FROM tablename\n",
    "    \n",
    "b) All the cities, but without repetition:\n",
    "\n",
    "    SELECT DISTINCT City FROM tablename\n",
    "c) All the records for India:\n",
    "\n",
    "    SELECT * FROM tablename\n",
    "\n",
    "    WHERE Country = 'India'\n",
    "   \n",
    "d) All the Fall records:\n",
    "\n",
    "    SELECT * FROM tablename\n",
    "\n",
    "    WHERE Season = 'Fall'\n",
    "    \n",
    "e) The city, country, and season for which the average rainfall is between 200 and 400 millimeters:\n",
    "\n",
    "    SELECT DISTINCT City, Country, Season FROM tablename\n",
    "\n",
    "    WHERE Rainfall(mm) BETWEEN 200 AND 400\n",
    "\n",
    "f) The city and country for which the average Fall temperature is above 20 degrees, in increasing temperature order:\n",
    "\n",
    "    SELECT DISTINCT City, Country FROM tablename\n",
    "\n",
    "    WHERE Season = 'Fall' AND Temperature(C)>20\n",
    "\n",
    "    ORDER BY Temperature(C) \n",
    "\n",
    "g) The total annual rainfall for Cairo\n",
    "\n",
    "    SELECT SUM(Rainfall(mm)) FROM tablename\n",
    "\n",
    "    WHERE City = 'Cairo'\n",
    "    \n",
    "h) The total rainfall for each season\n",
    "    \n",
    "    SELECT Season, SUM(Rainfall(mm)) FROM tablename\n",
    "\n",
    "    GROUP BY Season"
   ]
  },
  {
   "cell_type": "markdown",
   "metadata": {},
   "source": [
    "### Question 10\n",
    "#### Write list comprehension expressions that use list words and generate the following lists"
   ]
  },
  {
   "cell_type": "code",
   "execution_count": 27,
   "metadata": {},
   "outputs": [],
   "source": [
    "words = ['The', 'quick', 'brown', 'fox', 'jumps', 'over', 'the', 'lazy', 'dog']"
   ]
  },
  {
   "cell_type": "code",
   "execution_count": 28,
   "metadata": {},
   "outputs": [
    {
     "name": "stdout",
     "output_type": "stream",
     "text": [
      "['THE', 'QUICK', 'BROWN', 'FOX', 'JUMPS', 'OVER', 'THE', 'LAZY', 'DOG']\n"
     ]
    }
   ],
   "source": [
    "words_upper = [item.upper() for item in words]\n",
    "print (words_upper)"
   ]
  },
  {
   "cell_type": "code",
   "execution_count": 29,
   "metadata": {},
   "outputs": [
    {
     "name": "stdout",
     "output_type": "stream",
     "text": [
      "['the', 'quick', 'brown', 'fox', 'jumps', 'over', 'the', 'lazy', 'dog']\n"
     ]
    }
   ],
   "source": [
    "words_lower = [item.lower() for item in words]\n",
    "print (words_lower)"
   ]
  },
  {
   "cell_type": "code",
   "execution_count": 30,
   "metadata": {},
   "outputs": [
    {
     "name": "stdout",
     "output_type": "stream",
     "text": [
      "[3, 5, 5, 3, 5, 4, 3, 4, 3]\n"
     ]
    }
   ],
   "source": [
    "word_len = [len(item) for item in words]\n",
    "print(word_len)"
   ]
  },
  {
   "cell_type": "code",
   "execution_count": 32,
   "metadata": {},
   "outputs": [
    {
     "name": "stdout",
     "output_type": "stream",
     "text": [
      "[['THE', 'the', 3], ['QUICK', 'quick', 5], ['BROWN', 'brown', 5], ['FOX', 'fox', 3], ['JUMPS', 'jumps', 5], ['OVER', 'over', 4], ['THE', 'the', 3], ['LAZY', 'lazy', 4], ['DOG', 'dog', 3]]\n"
     ]
    }
   ],
   "source": [
    "list_of_all = [[x, y , z] for x, y, z in zip(words_upper,words_lower,word_len)]\n",
    "print (list_of_all)"
   ]
  },
  {
   "cell_type": "code",
   "execution_count": 33,
   "metadata": {},
   "outputs": [
    {
     "name": "stdout",
     "output_type": "stream",
     "text": [
      "['quick', 'brown', 'jumps', 'over', 'lazy']\n"
     ]
    }
   ],
   "source": [
    "words_four = []\n",
    "[words_four.append(item) for item in words if len(item)>=4]\n",
    "print (words_four)"
   ]
  }
 ],
 "metadata": {
  "kernelspec": {
   "display_name": "Python 3",
   "language": "python",
   "name": "python3"
  },
  "language_info": {
   "codemirror_mode": {
    "name": "ipython",
    "version": 3
   },
   "file_extension": ".py",
   "mimetype": "text/x-python",
   "name": "python",
   "nbconvert_exporter": "python",
   "pygments_lexer": "ipython3",
   "version": "3.7.4"
  }
 },
 "nbformat": 4,
 "nbformat_minor": 2
}
